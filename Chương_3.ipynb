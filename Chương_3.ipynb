{
  "nbformat": 4,
  "nbformat_minor": 0,
  "metadata": {
    "colab": {
      "name": "Chương 3.ipynb",
      "provenance": [],
      "authorship_tag": "ABX9TyNbyh0OVfmF4qIaaQiOPUBm",
      "include_colab_link": true
    },
    "kernelspec": {
      "name": "python3",
      "display_name": "Python 3"
    },
    "language_info": {
      "name": "python"
    }
  },
  "cells": [
    {
      "cell_type": "markdown",
      "metadata": {
        "id": "view-in-github",
        "colab_type": "text"
      },
      "source": [
        "<a href=\"https://colab.research.google.com/github/NguyenHuuPhat0773/thuchanhtoanCC/blob/main/Ch%C6%B0%C6%A1ng_3.ipynb\" target=\"_parent\"><img src=\"https://colab.research.google.com/assets/colab-badge.svg\" alt=\"Open In Colab\"/></a>"
      ]
    },
    {
      "cell_type": "markdown",
      "source": [
        "Thực Hành 1 \n"
      ],
      "metadata": {
        "id": "Orj_NaVdYOhl"
      }
    },
    {
      "cell_type": "code",
      "execution_count": 10,
      "metadata": {
        "colab": {
          "base_uri": "https://localhost:8080/"
        },
        "id": "ZhP1iKatSfAN",
        "outputId": "1998a335-eacf-48e9-fd20-557cc047fa41"
      },
      "outputs": [
        {
          "output_type": "execute_result",
          "data": {
            "text/plain": [
              "2"
            ]
          },
          "metadata": {},
          "execution_count": 10
        }
      ],
      "source": [
        "def luythua(x,n): \n",
        "  ketqua= 1 \n",
        "  for i in range(n): \n",
        "    ketqua = ketqua *x \n",
        "  return ketqua\n",
        "luythua(2,1) "
      ]
    },
    {
      "cell_type": "code",
      "source": [
        "def luythua(x,n): \n",
        "  ketqua= 1 \n",
        "  for i in range(n): \n",
        "    ketqua = ketqua *x \n",
        "  return ketqua\n",
        "luythua(2,0) "
      ],
      "metadata": {
        "colab": {
          "base_uri": "https://localhost:8080/"
        },
        "id": "JxRIOJJVYN1G",
        "outputId": "66bd2476-6599-4f1c-89f7-171e14dc7b79"
      },
      "execution_count": 12,
      "outputs": [
        {
          "output_type": "execute_result",
          "data": {
            "text/plain": [
              "1"
            ]
          },
          "metadata": {},
          "execution_count": 12
        }
      ]
    },
    {
      "cell_type": "markdown",
      "source": [
        "Thực hành 2\n"
      ],
      "metadata": {
        "id": "-oHtWQR0YYdl"
      }
    },
    {
      "cell_type": "code",
      "source": [
        "while 1 = 2: "
      ],
      "metadata": {
        "colab": {
          "base_uri": "https://localhost:8080/",
          "height": 130
        },
        "id": "TJcOWfPwYOCN",
        "outputId": "377772d9-845d-4b7e-9d89-c5d6ede2d33d"
      },
      "execution_count": 13,
      "outputs": [
        {
          "output_type": "error",
          "ename": "SyntaxError",
          "evalue": "ignored",
          "traceback": [
            "\u001b[0;36m  File \u001b[0;32m\"<ipython-input-13-7c7a27450cf9>\"\u001b[0;36m, line \u001b[0;32m1\u001b[0m\n\u001b[0;31m    while 1 = 2:\u001b[0m\n\u001b[0m            ^\u001b[0m\n\u001b[0;31mSyntaxError\u001b[0m\u001b[0;31m:\u001b[0m invalid syntax\n"
          ]
        }
      ]
    },
    {
      "cell_type": "code",
      "source": [
        "10 * (1/0) "
      ],
      "metadata": {
        "colab": {
          "base_uri": "https://localhost:8080/",
          "height": 165
        },
        "id": "FYiu5duTYkiE",
        "outputId": "e3d4a4f8-1920-449e-951b-51db7069c469"
      },
      "execution_count": 14,
      "outputs": [
        {
          "output_type": "error",
          "ename": "ZeroDivisionError",
          "evalue": "ignored",
          "traceback": [
            "\u001b[0;31m---------------------------------------------------------------------------\u001b[0m",
            "\u001b[0;31mZeroDivisionError\u001b[0m                         Traceback (most recent call last)",
            "\u001b[0;32m<ipython-input-14-579c50ec8602>\u001b[0m in \u001b[0;36m<module>\u001b[0;34m()\u001b[0m\n\u001b[0;32m----> 1\u001b[0;31m \u001b[0;36m10\u001b[0m \u001b[0;34m*\u001b[0m \u001b[0;34m(\u001b[0m\u001b[0;36m1\u001b[0m\u001b[0;34m/\u001b[0m\u001b[0;36m0\u001b[0m\u001b[0;34m)\u001b[0m\u001b[0;34m\u001b[0m\u001b[0;34m\u001b[0m\u001b[0m\n\u001b[0m",
            "\u001b[0;31mZeroDivisionError\u001b[0m: division by zero"
          ]
        }
      ]
    },
    {
      "cell_type": "code",
      "source": [
        "3 * bien_chua_khai_bao / 4 "
      ],
      "metadata": {
        "colab": {
          "base_uri": "https://localhost:8080/",
          "height": 165
        },
        "id": "CuUN2Op0YkSc",
        "outputId": "5307a536-a72c-46fe-9544-248b02ecedf9"
      },
      "execution_count": 15,
      "outputs": [
        {
          "output_type": "error",
          "ename": "NameError",
          "evalue": "ignored",
          "traceback": [
            "\u001b[0;31m---------------------------------------------------------------------------\u001b[0m",
            "\u001b[0;31mNameError\u001b[0m                                 Traceback (most recent call last)",
            "\u001b[0;32m<ipython-input-15-1537de6f046e>\u001b[0m in \u001b[0;36m<module>\u001b[0;34m()\u001b[0m\n\u001b[0;32m----> 1\u001b[0;31m \u001b[0;36m3\u001b[0m \u001b[0;34m*\u001b[0m \u001b[0mbien_chua_khai_bao\u001b[0m \u001b[0;34m/\u001b[0m \u001b[0;36m4\u001b[0m\u001b[0;34m\u001b[0m\u001b[0;34m\u001b[0m\u001b[0m\n\u001b[0m",
            "\u001b[0;31mNameError\u001b[0m: name 'bien_chua_khai_bao' is not defined"
          ]
        }
      ]
    },
    {
      "cell_type": "markdown",
      "source": [
        "Thực hành 3 "
      ],
      "metadata": {
        "id": "TA3nQYQjY1gN"
      }
    },
    {
      "cell_type": "code",
      "source": [
        " x = int(input('Vui long nhap so:')) "
      ],
      "metadata": {
        "colab": {
          "base_uri": "https://localhost:8080/",
          "height": 182
        },
        "id": "xSaRhMZGY0z9",
        "outputId": "07c4c0f8-3dd7-4fdc-d7d6-72a918977b03"
      },
      "execution_count": 33,
      "outputs": [
        {
          "name": "stdout",
          "output_type": "stream",
          "text": [
            "Vui long nhap so:a\n"
          ]
        },
        {
          "output_type": "error",
          "ename": "ValueError",
          "evalue": "ignored",
          "traceback": [
            "\u001b[0;31m---------------------------------------------------------------------------\u001b[0m",
            "\u001b[0;31mValueError\u001b[0m                                Traceback (most recent call last)",
            "\u001b[0;32m<ipython-input-33-80039f0393eb>\u001b[0m in \u001b[0;36m<module>\u001b[0;34m()\u001b[0m\n\u001b[0;32m----> 1\u001b[0;31m \u001b[0mx\u001b[0m \u001b[0;34m=\u001b[0m \u001b[0mint\u001b[0m\u001b[0;34m(\u001b[0m\u001b[0minput\u001b[0m\u001b[0;34m(\u001b[0m\u001b[0;34m'Vui long nhap so:'\u001b[0m\u001b[0;34m)\u001b[0m\u001b[0;34m)\u001b[0m\u001b[0;34m\u001b[0m\u001b[0;34m\u001b[0m\u001b[0m\n\u001b[0m",
            "\u001b[0;31mValueError\u001b[0m: invalid literal for int() with base 10: 'a'"
          ]
        }
      ]
    },
    {
      "cell_type": "code",
      "source": [
        "while True : \n",
        "  try: \n",
        "      x = int(input('Vui long nhap so: '))\n",
        "      break  \n",
        "  except: 1 "
      ],
      "metadata": {
        "colab": {
          "base_uri": "https://localhost:8080/",
          "height": 408
        },
        "id": "ZnoP-0c8Y0iV",
        "outputId": "1052b8c3-6051-4b3a-d002-50e3c2412c44"
      },
      "execution_count": 45,
      "outputs": [
        {
          "name": "stdout",
          "output_type": "stream",
          "text": [
            "Vui long nhap so: \n"
          ]
        },
        {
          "output_type": "error",
          "ename": "NameError",
          "evalue": "ignored",
          "traceback": [
            "\u001b[0;31m---------------------------------------------------------------------------\u001b[0m",
            "\u001b[0;31mValueError\u001b[0m                                Traceback (most recent call last)",
            "\u001b[0;32m<ipython-input-45-e29ccfd5db32>\u001b[0m in \u001b[0;36m<module>\u001b[0;34m()\u001b[0m\n\u001b[1;32m      2\u001b[0m   \u001b[0;32mtry\u001b[0m\u001b[0;34m:\u001b[0m\u001b[0;34m\u001b[0m\u001b[0;34m\u001b[0m\u001b[0m\n\u001b[0;32m----> 3\u001b[0;31m       \u001b[0mx\u001b[0m \u001b[0;34m=\u001b[0m \u001b[0mint\u001b[0m\u001b[0;34m(\u001b[0m\u001b[0minput\u001b[0m\u001b[0;34m(\u001b[0m\u001b[0;34m'Vui long nhap so: '\u001b[0m\u001b[0;34m)\u001b[0m\u001b[0;34m)\u001b[0m\u001b[0;34m\u001b[0m\u001b[0;34m\u001b[0m\u001b[0m\n\u001b[0m\u001b[1;32m      4\u001b[0m       \u001b[0;32mbreak\u001b[0m\u001b[0;34m\u001b[0m\u001b[0;34m\u001b[0m\u001b[0m\n",
            "\u001b[0;31mValueError\u001b[0m: invalid literal for int() with base 10: ''",
            "\nDuring handling of the above exception, another exception occurred:\n",
            "\u001b[0;31mNameError\u001b[0m                                 Traceback (most recent call last)",
            "\u001b[0;32m<ipython-input-45-e29ccfd5db32>\u001b[0m in \u001b[0;36m<module>\u001b[0;34m()\u001b[0m\n\u001b[1;32m      3\u001b[0m       \u001b[0mx\u001b[0m \u001b[0;34m=\u001b[0m \u001b[0mint\u001b[0m\u001b[0;34m(\u001b[0m\u001b[0minput\u001b[0m\u001b[0;34m(\u001b[0m\u001b[0;34m'Vui long nhap so: '\u001b[0m\u001b[0;34m)\u001b[0m\u001b[0;34m)\u001b[0m\u001b[0;34m\u001b[0m\u001b[0;34m\u001b[0m\u001b[0m\n\u001b[1;32m      4\u001b[0m       \u001b[0;32mbreak\u001b[0m\u001b[0;34m\u001b[0m\u001b[0;34m\u001b[0m\u001b[0m\n\u001b[0;32m----> 5\u001b[0;31m   \u001b[0;32mexcept\u001b[0m\u001b[0;34m:\u001b[0m  \u001b[0maa\u001b[0m\u001b[0;34m\u001b[0m\u001b[0;34m\u001b[0m\u001b[0m\n\u001b[0m\u001b[1;32m      6\u001b[0m \u001b[0;34m\u001b[0m\u001b[0m\n",
            "\u001b[0;31mNameError\u001b[0m: name 'aa' is not defined"
          ]
        }
      ]
    },
    {
      "cell_type": "markdown",
      "source": [
        "Thực Hành 4 \n"
      ],
      "metadata": {
        "id": "2V7PjfCybTDA"
      }
    },
    {
      "cell_type": "code",
      "source": [
        "while True: \n",
        "  try: \n",
        "    x = int(input('Vui long nhap so: ')) \n",
        "  except: \n",
        "    print ('So vua nhap sai') \n",
        "  else: \n",
        "    print ('so vua nhap la ' + str(x)) \n",
        "    break \n",
        "  finally:  \n",
        "    print ('Da hoan thanh chuong trinh') "
      ],
      "metadata": {
        "colab": {
          "base_uri": "https://localhost:8080/"
        },
        "id": "NtN3gBA8bSeW",
        "outputId": "8a5a9f5d-c92e-47ad-91f7-1efbeaffd506"
      },
      "execution_count": 53,
      "outputs": [
        {
          "output_type": "stream",
          "name": "stdout",
          "text": [
            "Vui long nhap so: 1\n",
            "so vua nhap la 1\n",
            "Da hoan thanh chuong trinh\n"
          ]
        }
      ]
    },
    {
      "cell_type": "markdown",
      "source": [
        "Thực Hành 5 \n"
      ],
      "metadata": {
        "id": "i5TkTtBnicXp"
      }
    },
    {
      "cell_type": "code",
      "source": [
        "def frange(batdau, ketthuc, buocnhay): \n",
        "  day_ketqua = [] \n",
        "  while batdau<ketthuc: \n",
        "        day_ketqua.append(batdau) \n",
        "        batdau = batdau + buocnhay \n",
        "  return day_ketqua \n",
        "tu0den2 = frange(0,2,0.2)\n",
        "tu0den2\n"
      ],
      "metadata": {
        "colab": {
          "base_uri": "https://localhost:8080/"
        },
        "id": "xM7UL9edbSUu",
        "outputId": "a1c88900-1bb2-44e8-a05d-fcedd35e9bc9"
      },
      "execution_count": 61,
      "outputs": [
        {
          "output_type": "execute_result",
          "data": {
            "text/plain": [
              "[0,\n",
              " 0.2,\n",
              " 0.4,\n",
              " 0.6000000000000001,\n",
              " 0.8,\n",
              " 1.0,\n",
              " 1.2,\n",
              " 1.4,\n",
              " 1.5999999999999999,\n",
              " 1.7999999999999998,\n",
              " 1.9999999999999998]"
            ]
          },
          "metadata": {},
          "execution_count": 61
        }
      ]
    },
    {
      "cell_type": "markdown",
      "source": [
        "Thực Hành 6 "
      ],
      "metadata": {
        "id": "5DAtzhU7ld-8"
      }
    },
    {
      "cell_type": "code",
      "source": [
        "from matplotlib import pyplot as plt \n",
        "import math"
      ],
      "metadata": {
        "id": "bFBCdyoTp_o1"
      },
      "execution_count": 102,
      "outputs": []
    },
    {
      "cell_type": "code",
      "source": [
        "def draw_graph(x, y):\n",
        "  plt.plot(x, y)\n",
        "  plt.xlabel('Truc X')\n",
        "  plt.ylabel('Truc Y')\n",
        "  plt.title('Do thi bai toan nem qua bong')"
      ],
      "metadata": {
        "id": "NrIAigKBldzC"
      },
      "execution_count": 103,
      "outputs": []
    },
    {
      "cell_type": "code",
      "source": [
        "def frange(start, final, interval):\n",
        "  numbers = [] \n",
        "  while start < final:\n",
        "    numbers.append(start)\n",
        "    start = start + interval\n",
        "  return numbers"
      ],
      "metadata": {
        "id": "1LVQ47bbp6iO"
      },
      "execution_count": 104,
      "outputs": []
    },
    {
      "cell_type": "code",
      "source": [
        "def draw_trajectory(u,theta):\n",
        "      g = 9.8\n",
        "      theta = math.radians(theta)\n",
        "      t_flight = 2*u*math.sin(theta)/g\n",
        "      intervals = frange(0, t_flight, 0.001)\n",
        "      x = []\n",
        "      y = []\n",
        "      for t in intervals:\n",
        "        x.append(u*math.cos(theta)*t)\n",
        "        y.append(u*math.sin(theta)*t - 0.5*g*t*t) \n",
        "        draw_graph(x,y)"
      ],
      "metadata": {
        "id": "zMkiXwnBrtZw"
      },
      "execution_count": 100,
      "outputs": []
    },
    {
      "cell_type": "code",
      "source": [
        "if __name__ =='__main__':\n",
        "  try:\n",
        "    u = float(input('Nhap van toc ban dau (m/s): '))\n",
        "    theta = float(input('Nhap goc bay (degrees): '))\n",
        "  except ValueError:\n",
        "    print (' Nhap cac gia tri sai! ')\n",
        "  else:\n",
        "    draw_trajectory (u,theta)\n",
        "    plt.show()\n",
        "  finally:\n",
        "    print('Hoan thanh chuong trinh!') "
      ],
      "metadata": {
        "colab": {
          "base_uri": "https://localhost:8080/",
          "height": 347
        },
        "id": "GG3HC2LfpI9O",
        "outputId": "e828dca4-7a5a-4ffc-f675-e91544853312"
      },
      "execution_count": 105,
      "outputs": [
        {
          "name": "stdout",
          "output_type": "stream",
          "text": [
            "Nhap van toc ban dau (m/s): 10\n",
            "Nhap goc bay (degrees): 20\n"
          ]
        },
        {
          "output_type": "display_data",
          "data": {
            "image/png": "[encoded data removed]",
            "text/plain": [
              "<Figure size 432x288 with 1 Axes>"
            ]
          },
          "metadata": {
            "needs_background": "light"
          }
        },
        {
          "output_type": "stream",
          "name": "stdout",
          "text": [
            "Hoan thanh chuong trinh!\n"
          ]
        }
      ]
    }
  ]
}