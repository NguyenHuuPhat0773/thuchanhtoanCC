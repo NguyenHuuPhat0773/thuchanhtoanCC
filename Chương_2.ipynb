{
  "nbformat": 4,
  "nbformat_minor": 0,
  "metadata": {
    "colab": {
      "name": "Chương 2.ipynb",
      "provenance": [],
      "authorship_tag": "ABX9TyMIcpul3ClscOzGPYcp6Jo8",
      "include_colab_link": true
    },
    "kernelspec": {
      "name": "python3",
      "display_name": "Python 3"
    },
    "language_info": {
      "name": "python"
    }
  },
  "cells": [
    {
      "cell_type": "markdown",
      "metadata": {
        "id": "view-in-github",
        "colab_type": "text"
      },
      "source": [
        "<a href=\"https://colab.research.google.com/github/NguyenHuuPhat0773/thuchanhtoanCC/blob/main/Ch%C6%B0%C6%A1ng_2.ipynb\" target=\"_parent\"><img src=\"https://colab.research.google.com/assets/colab-badge.svg\" alt=\"Open In Colab\"/></a>"
      ]
    },
    {
      "cell_type": "markdown",
      "source": [
        ""
      ],
      "metadata": {
        "id": "XaPcAjrfB4ok"
      }
    },
    {
      "cell_type": "markdown",
      "source": [
        "Thực hành 1 "
      ],
      "metadata": {
        "id": "56T3W0f2FMBU"
      }
    },
    {
      "cell_type": "code",
      "source": [
        "chuoitinhtoan=\"a*b+c\"\n",
        "a=2\n",
        "b=5\n",
        "c=8\n",
        "eval(chuoitinhtoan)"
      ],
      "metadata": {
        "colab": {
          "base_uri": "https://localhost:8080/"
        },
        "id": "epGBVRTwD4L2",
        "outputId": "188893cf-e7b9-460b-84d2-731dd385d767"
      },
      "execution_count": 11,
      "outputs": [
        {
          "output_type": "execute_result",
          "data": {
            "text/plain": [
              "18"
            ]
          },
          "metadata": {},
          "execution_count": 11
        }
      ]
    },
    {
      "cell_type": "markdown",
      "source": [
        "Thực hành 2 "
      ],
      "metadata": {
        "id": "RKDb2BE7FRNj"
      }
    },
    {
      "cell_type": "code",
      "source": [
        "from sympy import Symbol\n",
        "x=Symbol('x')\n",
        "y=Symbol('y')\n",
        "bieuthuc=x+y\n",
        "thaytheso=bieuthuc.subs({x:10,y:5})\n",
        "thaytheso"
      ],
      "metadata": {
        "colab": {
          "base_uri": "https://localhost:8080/",
          "height": 38
        },
        "id": "BHVYNYSGD5rv",
        "outputId": "9f8dae60-38ce-4e1e-c301-30a49aa46f32"
      },
      "execution_count": 15,
      "outputs": [
        {
          "output_type": "execute_result",
          "data": {
            "text/latex": "$\\displaystyle 15$",
            "text/plain": [
              "15"
            ]
          },
          "metadata": {},
          "execution_count": 15
        }
      ]
    },
    {
      "cell_type": "code",
      "source": [
        ""
      ],
      "metadata": {
        "id": "cOK04hMTD568"
      },
      "execution_count": null,
      "outputs": []
    },
    {
      "cell_type": "code",
      "execution_count": 10,
      "metadata": {
        "colab": {
          "base_uri": "https://localhost:8080/",
          "height": 282
        },
        "id": "iIMMcGf6BykB",
        "outputId": "eaefe81c-97ca-424e-b4de-2574a3c86a93"
      },
      "outputs": [
        {
          "output_type": "execute_result",
          "data": {
            "text/plain": [
              "<function matplotlib.pyplot.show>"
            ]
          },
          "metadata": {},
          "execution_count": 10
        },
        {
          "output_type": "display_data",
          "data": {
            "image/png": "[encoded data removed]",
            "text/plain": [
              "<Figure size 432x288 with 1 Axes>"
            ]
          },
          "metadata": {
            "needs_background": "light"
          }
        }
      ],
      "source": [
        "from pylab import plot,show\n",
        "hmc_rain=[13.8,4.1,10.5,50.4,218.4,311.7,293.7,269.8,327.1,266.7,116.5,48.3]\n",
        "months=range(1,13)\n",
        "plot(months,hmc_rain,marker='o')\n",
        "show"
      ]
    }
  ]
}