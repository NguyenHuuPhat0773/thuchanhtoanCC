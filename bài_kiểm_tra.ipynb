{
  "nbformat": 4,
  "nbformat_minor": 0,
  "metadata": {
    "colab": {
      "name": "bài kiểm tra.ipynb",
      "provenance": [],
      "collapsed_sections": [],
      "authorship_tag": "ABX9TyPN9QcnPSODP41q4CE9pov7",
      "include_colab_link": true
    },
    "kernelspec": {
      "name": "python3",
      "display_name": "Python 3"
    },
    "language_info": {
      "name": "python"
    }
  },
  "cells": [
    {
      "cell_type": "markdown",
      "metadata": {
        "id": "view-in-github",
        "colab_type": "text"
      },
      "source": [
        "<a href=\"https://colab.research.google.com/github/NguyenHuuPhat0773/thuchanhtoanCC/blob/main/b%C3%A0i_ki%E1%BB%83m_tra.ipynb\" target=\"_parent\"><img src=\"https://colab.research.google.com/assets/colab-badge.svg\" alt=\"Open In Colab\"/></a>"
      ]
    },
    {
      "cell_type": "markdown",
      "source": [
        "Bài 2 đạo hàm "
      ],
      "metadata": {
        "id": "xVakpFUGrx7G"
      }
    },
    {
      "cell_type": "code",
      "source": [
        "from sympy import Symbol, Derivative \n",
        "x = Symbol('x')\n",
        "y=(2*x-1)/(x+2)\n",
        "Derivative(y, x).doit()"
      ],
      "metadata": {
        "colab": {
          "base_uri": "https://localhost:8080/",
          "height": 58
        },
        "id": "X2tKcmefoaeG",
        "outputId": "c2b3b601-364f-4fe5-c3b8-07e22f9e90ea"
      },
      "execution_count": 6,
      "outputs": [
        {
          "output_type": "execute_result",
          "data": {
            "text/plain": [
              "2/(x + 2) - (2*x - 1)/(x + 2)**2"
            ],
            "text/latex": "$\\displaystyle \\frac{2}{x + 2} - \\frac{2 x - 1}{\\left(x + 2\\right)^{2}}$"
          },
          "metadata": {},
          "execution_count": 6
        }
      ]
    },
    {
      "cell_type": "markdown",
      "source": [
        "bài 6 đạo hàmhàm"
      ],
      "metadata": {
        "id": "_NCKZel5tjlk"
      }
    },
    {
      "cell_type": "code",
      "source": [
        "from sympy import Symbol, Derivative \n",
        "x = Symbol('x')\n",
        "y=2/3*x**3-5*x**2+2*x+4\n",
        "y"
      ],
      "metadata": {
        "colab": {
          "base_uri": "https://localhost:8080/",
          "height": 39
        },
        "id": "77U_fVxNtw5U",
        "outputId": "62e4e5ac-c8bd-4450-bc1b-e34d9bf42118"
      },
      "execution_count": 16,
      "outputs": [
        {
          "output_type": "execute_result",
          "data": {
            "text/plain": [
              "0.666666666666667*x**3 - 5*x**2 + 2*x + 4"
            ],
            "text/latex": "$\\displaystyle 0.666666666666667 x^{3} - 5 x^{2} + 2 x + 4$"
          },
          "metadata": {},
          "execution_count": 16
        }
      ]
    },
    {
      "cell_type": "code",
      "source": [
        "Derivative(y,x).doit()"
      ],
      "metadata": {
        "colab": {
          "base_uri": "https://localhost:8080/",
          "height": 39
        },
        "id": "Serd3suqt3pm",
        "outputId": "5b2f7bf6-978c-48ad-d076-de829460afbf"
      },
      "execution_count": 18,
      "outputs": [
        {
          "output_type": "execute_result",
          "data": {
            "text/plain": [
              "2.0*x**2 - 10*x + 2"
            ],
            "text/latex": "$\\displaystyle 2.0 x^{2} - 10 x + 2$"
          },
          "metadata": {},
          "execution_count": 18
        }
      ]
    },
    {
      "cell_type": "markdown",
      "source": [
        "bài 1 tích phân "
      ],
      "metadata": {
        "id": "V0u9UNcJsjbb"
      }
    },
    {
      "cell_type": "code",
      "source": [
        "from sympy import Symbol,Derivative,Integral\n",
        "x=Symbol('x')\n",
        "tich_phan=(2*x-1)/(x+1)\n",
        "ket_qua=Integral(tich_phan,(x,0,1))\n",
        "ket_qua"
      ],
      "metadata": {
        "colab": {
          "base_uri": "https://localhost:8080/",
          "height": 79
        },
        "id": "UX34WIVbrxUU",
        "outputId": "dd67617d-1b75-4bc0-cf10-c7de795e7ec9"
      },
      "execution_count": 12,
      "outputs": [
        {
          "output_type": "execute_result",
          "data": {
            "text/plain": [
              "Integral((2*x - 1)/(x + 1), (x, 0, 1))"
            ],
            "text/latex": "$\\displaystyle \\int\\limits_{0}^{1} \\frac{2 x - 1}{x + 1}\\, dx$"
          },
          "metadata": {},
          "execution_count": 12
        }
      ]
    },
    {
      "cell_type": "code",
      "source": [
        "ket_qua.doit()"
      ],
      "metadata": {
        "colab": {
          "base_uri": "https://localhost:8080/",
          "height": 38
        },
        "id": "S_8dhv7FtFKN",
        "outputId": "beae803c-2225-4f6e-8aa1-385159c09db6"
      },
      "execution_count": 13,
      "outputs": [
        {
          "output_type": "execute_result",
          "data": {
            "text/plain": [
              "2 - 3*log(2)"
            ],
            "text/latex": "$\\displaystyle 2 - 3 \\log{\\left(2 \\right)}$"
          },
          "metadata": {},
          "execution_count": 13
        }
      ]
    },
    {
      "cell_type": "markdown",
      "source": [
        "Bài 5 tích phân"
      ],
      "metadata": {
        "id": "ojzT2u1ztY2S"
      }
    },
    {
      "cell_type": "code",
      "source": [
        "from sympy import Symbol, Derivative,Integral\n",
        "x = Symbol('x')\n",
        "tich_phan1=(2*x+1)/(x*(x+1))\n",
        "ket_qua=Integral(tich_phan1,(x,1,2))\n",
        "ket_qua\n"
      ],
      "metadata": {
        "colab": {
          "base_uri": "https://localhost:8080/",
          "height": 79
        },
        "id": "wyQXK8ArtIbk",
        "outputId": "c0f27643-194c-4fa6-f429-f9d58d7bed46"
      },
      "execution_count": 14,
      "outputs": [
        {
          "output_type": "execute_result",
          "data": {
            "text/plain": [
              "Integral((2*x + 1)/(x*(x + 1)), (x, 1, 2))"
            ],
            "text/latex": "$\\displaystyle \\int\\limits_{1}^{2} \\frac{2 x + 1}{x \\left(x + 1\\right)}\\, dx$"
          },
          "metadata": {},
          "execution_count": 14
        }
      ]
    },
    {
      "cell_type": "code",
      "source": [
        "ket_qua.doit()"
      ],
      "metadata": {
        "colab": {
          "base_uri": "https://localhost:8080/",
          "height": 38
        },
        "id": "SktJ6BsltWU8",
        "outputId": "e08c8e9f-21cd-44e9-e91b-cd2c2ebd87fd"
      },
      "execution_count": 15,
      "outputs": [
        {
          "output_type": "execute_result",
          "data": {
            "text/plain": [
              "-log(2) + log(6)"
            ],
            "text/latex": "$\\displaystyle - \\log{\\left(2 \\right)} + \\log{\\left(6 \\right)}$"
          },
          "metadata": {},
          "execution_count": 15
        }
      ]
    }
  ]
}