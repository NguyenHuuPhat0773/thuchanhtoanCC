{
  "nbformat": 4,
  "nbformat_minor": 0,
  "metadata": {
    "colab": {
      "name": "Chương1.ipynb",
      "provenance": [],
      "collapsed_sections": [],
      "authorship_tag": "ABX9TyO61QSyqAPtSMXjZurGM1hT",
      "include_colab_link": true
    },
    "kernelspec": {
      "name": "python3",
      "display_name": "Python 3"
    },
    "language_info": {
      "name": "python"
    }
  },
  "cells": [
    {
      "cell_type": "markdown",
      "metadata": {
        "id": "view-in-github",
        "colab_type": "text"
      },
      "source": [
        "<a href=\"https://colab.research.google.com/github/NguyenHuuPhat0773/thuchanhtoanCC/blob/main/Ch%C6%B0%C6%A1ng1.ipynb\" target=\"_parent\"><img src=\"https://colab.research.google.com/assets/colab-badge.svg\" alt=\"Open In Colab\"/></a>"
      ]
    },
    {
      "cell_type": "code",
      "execution_count": null,
      "metadata": {
        "id": "oxkniy6x6gZF"
      },
      "outputs": [],
      "source": [
        "n = 10000000\n",
        "X = [(2-0)*k/n for k in range(0, n+1)]"
      ]
    },
    {
      "cell_type": "code",
      "source": [
        "S = 0\n",
        "for k in range(1, n + 1):\n",
        "  S = S + X[k]**2 * (X[k] - X[k-1])\n",
        "print (S)"
      ],
      "metadata": {
        "colab": {
          "base_uri": "https://localhost:8080/"
        },
        "id": "4QKYPfCMMgrR",
        "outputId": "96eb3e5a-97b4-4627-fa38-4757ac022bc7"
      },
      "execution_count": null,
      "outputs": [
        {
          "output_type": "stream",
          "name": "stdout",
          "text": [
            "2.666667066666659\n"
          ]
        }
      ]
    },
    {
      "cell_type": "code",
      "source": [
        "from sympy import *\n",
        "oo\n"
      ],
      "metadata": {
        "colab": {
          "base_uri": "https://localhost:8080/",
          "height": 38
        },
        "id": "FkBA_uxvMhKg",
        "outputId": "32a99a54-103b-4f7f-fc3e-14242a8cdbb7"
      },
      "execution_count": null,
      "outputs": [
        {
          "output_type": "execute_result",
          "data": {
            "text/latex": "$\\displaystyle \\infty$",
            "text/plain": [
              "oo"
            ]
          },
          "metadata": {},
          "execution_count": 7
        }
      ]
    },
    {
      "cell_type": "markdown",
      "source": [
        "THỰC HÀNH 5a "
      ],
      "metadata": {
        "id": "EyPGUSO9xYud"
      }
    },
    {
      "cell_type": "code",
      "source": [
        "from sympy.solvers.solvers import denoms\n",
        "from sympy import *\n",
        "x = Symbol('x')\n",
        "eq = (1/x)*(1/(x-3))\n",
        "dd = denoms(eq)\n",
        "print(dd)"
      ],
      "metadata": {
        "colab": {
          "base_uri": "https://localhost:8080/"
        },
        "id": "gwWlJC0BPTcZ",
        "outputId": "d186d976-5279-4272-851d-4012fd2ce5d6"
      },
      "execution_count": null,
      "outputs": [
        {
          "output_type": "stream",
          "name": "stdout",
          "text": [
            "{x, x - 3}\n"
          ]
        }
      ]
    },
    {
      "cell_type": "markdown",
      "source": [
        "THỰC HÀNH 5b"
      ],
      "metadata": {
        "id": "l1kf2AkaxV5c"
      }
    },
    {
      "cell_type": "code",
      "source": [
        "eq=(1+1/x)/(x-1)\n",
        "from sympy.solvers.solvers import denoms\n",
        "loai_tru =set()\n",
        "for d in denoms(eq):\n",
        "  for s in solve(d):\n",
        "          loai_tru.add(s)\n",
        "print(loai_tru)"
      ],
      "metadata": {
        "colab": {
          "base_uri": "https://localhost:8080/"
        },
        "id": "lfxc3F0YRm6R",
        "outputId": "5d914f6d-e7d0-45e5-e27c-a17761f5e142"
      },
      "execution_count": null,
      "outputs": [
        {
          "output_type": "stream",
          "name": "stdout",
          "text": [
            "{0, 1}\n"
          ]
        }
      ]
    },
    {
      "cell_type": "markdown",
      "source": [
        "THỰC HÀNH 6 "
      ],
      "metadata": {
        "id": "bLd3qU1ixhzU"
      }
    },
    {
      "cell_type": "code",
      "source": [
        "from sympy import Symbol \n",
        "x= Symbol('x',positive = True )\n",
        "if (x+3)>0:\n",
        "  print('Chắc chắn x+3 dương!')\n",
        "else:\n",
        "  print('x+3 chưa chắc dương')"
      ],
      "metadata": {
        "colab": {
          "base_uri": "https://localhost:8080/"
        },
        "id": "9mAgWgXWSzdy",
        "outputId": "8eacd2aa-3dbf-490d-f667-d89743a6f17d"
      },
      "execution_count": null,
      "outputs": [
        {
          "output_type": "stream",
          "name": "stdout",
          "text": [
            "Chắc chắn x+3 dương!\n"
          ]
        }
      ]
    },
    {
      "cell_type": "markdown",
      "source": [
        "THỰC HÀNH 7 "
      ],
      "metadata": {
        "id": "q4TImRbIxlFj"
      }
    },
    {
      "cell_type": "code",
      "source": [
        "import math\n",
        "math.sin(math.pi/2)"
      ],
      "metadata": {
        "colab": {
          "base_uri": "https://localhost:8080/"
        },
        "id": "Y4P6DmGJ0dIk",
        "outputId": "c39d8e7e-65d5-46dc-fab8-de9fa5e8f3ec"
      },
      "execution_count": 8,
      "outputs": [
        {
          "output_type": "execute_result",
          "data": {
            "text/plain": [
              "1.0"
            ]
          },
          "metadata": {},
          "execution_count": 8
        }
      ]
    },
    {
      "cell_type": "code",
      "source": [
        "import sympy \n",
        "sympy.sin(math.pi/2)"
      ],
      "metadata": {
        "colab": {
          "base_uri": "https://localhost:8080/",
          "height": 38
        },
        "id": "2wBcSVHd0c2s",
        "outputId": "b6efa5d1-eea9-4d75-bc58-e16728910180"
      },
      "execution_count": 10,
      "outputs": [
        {
          "output_type": "execute_result",
          "data": {
            "text/latex": "$\\displaystyle 1.0$",
            "text/plain": [
              "1.00000000000000"
            ]
          },
          "metadata": {},
          "execution_count": 10
        }
      ]
    },
    {
      "cell_type": "code",
      "source": [
        "import sympy  \n",
        "goc_theta = Symbol(\"theta\")\n",
        "sympy.sin(goc_theta) + sympy.sin(goc_theta)\n",
        "2*sympy.sin(goc_theta) ==sympy.sin(goc_theta) + sympy.sin(goc_theta)"
      ],
      "metadata": {
        "id": "EUbSa8Gyya8n",
        "colab": {
          "base_uri": "https://localhost:8080/"
        },
        "outputId": "7719f637-1023-40e5-96ee-92df49465634"
      },
      "execution_count": 13,
      "outputs": [
        {
          "output_type": "execute_result",
          "data": {
            "text/plain": [
              "True"
            ]
          },
          "metadata": {},
          "execution_count": 13
        }
      ]
    },
    {
      "cell_type": "code",
      "source": [
        "import sympy\n",
        "goctheta=Symbol(\"theta\")\n",
        "(2*sympy.sin(goctheta)*sympy.cos(goctheta)).equals(sympy.sin(2*goctheta)) "
      ],
      "metadata": {
        "id": "iWjVC1lDybEG",
        "colab": {
          "base_uri": "https://localhost:8080/"
        },
        "outputId": "f00eeb57-0920-4e29-c70c-5ada9a9ea5c4"
      },
      "execution_count": 15,
      "outputs": [
        {
          "output_type": "execute_result",
          "data": {
            "text/plain": [
              "True"
            ]
          },
          "metadata": {},
          "execution_count": 15
        }
      ]
    },
    {
      "cell_type": "markdown",
      "source": [
        "THỰC HÀNH 8"
      ],
      "metadata": {
        "id": "5Vtl2IkY2zCk"
      }
    },
    {
      "cell_type": "code",
      "source": [
        "from sympy import sin,solve,Symbol \n",
        "u = Symbol(\"u\")\n",
        "t = Symbol (\"t\")\n",
        "g = Symbol(\"g\")\n",
        "theta = Symbol('theta')\n",
        "solve(u*sin(theta)-g*t,t)"
      ],
      "metadata": {
        "id": "Ku_DxPxPybJ1",
        "colab": {
          "base_uri": "https://localhost:8080/"
        },
        "outputId": "36ad06a2-b1a6-467a-c635-d44b31f1af93"
      },
      "execution_count": 17,
      "outputs": [
        {
          "output_type": "execute_result",
          "data": {
            "text/plain": [
              "[u*sin(theta)/g]"
            ]
          },
          "metadata": {},
          "execution_count": 17
        }
      ]
    },
    {
      "cell_type": "markdown",
      "source": [
        "THỰC HÀNH 9 "
      ],
      "metadata": {
        "id": "mQ-nsRpU4cRF"
      }
    },
    {
      "cell_type": "code",
      "source": [
        "from sympy import Limit,Symbol,S\n",
        "x=Symbol('x')\n",
        "Limit(1/x,x,S.Infinity)"
      ],
      "metadata": {
        "id": "eyDZ_kP0ybO9",
        "colab": {
          "base_uri": "https://localhost:8080/",
          "height": 51
        },
        "outputId": "4dc4d966-1e5f-4f3e-a506-eaae554f4c3c"
      },
      "execution_count": 20,
      "outputs": [
        {
          "output_type": "execute_result",
          "data": {
            "text/latex": "$\\displaystyle \\lim_{x \\to \\infty} \\frac{1}{x}$",
            "text/plain": [
              "Limit(1/x, x, oo, dir='-')"
            ]
          },
          "metadata": {},
          "execution_count": 20
        }
      ]
    },
    {
      "cell_type": "code",
      "source": [
        "gioihan =Limit(1/x,x,S.Infinity)\n",
        "gioihan.doit()"
      ],
      "metadata": {
        "id": "fCnggHaJybS9",
        "colab": {
          "base_uri": "https://localhost:8080/",
          "height": 38
        },
        "outputId": "2cf78504-50b2-4a4c-969d-48d47493e7fd"
      },
      "execution_count": 21,
      "outputs": [
        {
          "output_type": "execute_result",
          "data": {
            "text/latex": "$\\displaystyle 0$",
            "text/plain": [
              "0"
            ]
          },
          "metadata": {},
          "execution_count": 21
        }
      ]
    },
    {
      "cell_type": "markdown",
      "source": [
        "THỰC HÀNH 10 "
      ],
      "metadata": {
        "id": "ugMtck3i5bY8"
      }
    },
    {
      "cell_type": "markdown",
      "source": [
        "10a "
      ],
      "metadata": {
        "id": "eej67fnf6Ys0"
      }
    },
    {
      "cell_type": "code",
      "source": [
        "from sympy import Limit \n",
        "Limit(1/x,x,0,dir=\"-\")"
      ],
      "metadata": {
        "colab": {
          "base_uri": "https://localhost:8080/",
          "height": 52
        },
        "id": "U5pPsuJI5YFM",
        "outputId": "20c7f6d9-9997-4d5f-f1c2-7b56f1a54728"
      },
      "execution_count": 27,
      "outputs": [
        {
          "output_type": "execute_result",
          "data": {
            "text/latex": "$\\displaystyle \\lim_{x \\to 0^-} \\frac{1}{x}$",
            "text/plain": [
              "Limit(1/x, x, 0, dir='-')"
            ]
          },
          "metadata": {},
          "execution_count": 27
        }
      ]
    },
    {
      "cell_type": "code",
      "source": [
        "Limit(1/x,x,0,dir=\"+\")"
      ],
      "metadata": {
        "colab": {
          "base_uri": "https://localhost:8080/",
          "height": 52
        },
        "id": "0tFbRL2t5WPZ",
        "outputId": "3608439d-6172-4344-cf4d-1749cff0dff7"
      },
      "execution_count": 28,
      "outputs": [
        {
          "output_type": "execute_result",
          "data": {
            "text/latex": "$\\displaystyle \\lim_{x \\to 0^+} \\frac{1}{x}$",
            "text/plain": [
              "Limit(1/x, x, 0)"
            ]
          },
          "metadata": {},
          "execution_count": 28
        }
      ]
    },
    {
      "cell_type": "markdown",
      "source": [
        "10b "
      ],
      "metadata": {
        "id": "lIsISTwP6aqt"
      }
    },
    {
      "cell_type": "code",
      "source": [
        "from sympy import Symbol,sin\n",
        "Limit(sin(x)/x,x,0)"
      ],
      "metadata": {
        "colab": {
          "base_uri": "https://localhost:8080/",
          "height": 58
        },
        "id": "W4K5OA5t5Wat",
        "outputId": "26d0eb15-1fad-4ebb-ea03-0a9164c36314"
      },
      "execution_count": 31,
      "outputs": [
        {
          "output_type": "execute_result",
          "data": {
            "text/latex": "$\\displaystyle \\lim_{x \\to 0^+}\\left(\\frac{\\sin{\\left(x \\right)}}{x}\\right)$",
            "text/plain": [
              "Limit(sin(x)/x, x, 0)"
            ]
          },
          "metadata": {},
          "execution_count": 31
        }
      ]
    },
    {
      "cell_type": "markdown",
      "source": [
        "THỰC HÀNH 11"
      ],
      "metadata": {
        "id": "FC4WS47c6x9s"
      }
    },
    {
      "cell_type": "markdown",
      "source": [
        "11a"
      ],
      "metadata": {
        "id": "NopnxTc063aU"
      }
    },
    {
      "cell_type": "code",
      "source": [
        "from sympy import Limit ,Symbol,S\n",
        "Limit(x*sin(1/x),x,S.Infinity).doit()"
      ],
      "metadata": {
        "colab": {
          "base_uri": "https://localhost:8080/",
          "height": 38
        },
        "id": "wPlBKXNw5Wjc",
        "outputId": "cb579894-011a-49d3-b564-b40a20cf760e"
      },
      "execution_count": 36,
      "outputs": [
        {
          "output_type": "execute_result",
          "data": {
            "text/latex": "$\\displaystyle 1$",
            "text/plain": [
              "1"
            ]
          },
          "metadata": {},
          "execution_count": 36
        }
      ]
    },
    {
      "cell_type": "markdown",
      "source": [
        "11b "
      ],
      "metadata": {
        "id": "1RJ1rSMk8VO0"
      }
    },
    {
      "cell_type": "code",
      "source": [
        "from sympy import Limit ,sin,S\n",
        "Limit(x*sin(1/x),x,S.Infinity)"
      ],
      "metadata": {
        "colab": {
          "base_uri": "https://localhost:8080/",
          "height": 58
        },
        "id": "7o5eK0Ab5ZT3",
        "outputId": "7d34a971-1723-418c-adf6-26503d845a66"
      },
      "execution_count": 37,
      "outputs": [
        {
          "output_type": "execute_result",
          "data": {
            "text/latex": "$\\displaystyle \\lim_{x \\to \\infty}\\left(x \\sin{\\left(\\frac{1}{x} \\right)}\\right)$",
            "text/plain": [
              "Limit(x*sin(1/x), x, oo, dir='-')"
            ]
          },
          "metadata": {},
          "execution_count": 37
        }
      ]
    },
    {
      "cell_type": "code",
      "source": [
        "Limit(x*sin(1/x),x,sympy.oo)"
      ],
      "metadata": {
        "colab": {
          "base_uri": "https://localhost:8080/",
          "height": 58
        },
        "id": "WGmDTg0z5ZI8",
        "outputId": "acc80801-b767-48eb-88ab-192778ec3eb5"
      },
      "execution_count": 39,
      "outputs": [
        {
          "output_type": "execute_result",
          "data": {
            "text/latex": "$\\displaystyle \\lim_{x \\to \\infty}\\left(x \\sin{\\left(\\frac{1}{x} \\right)}\\right)$",
            "text/plain": [
              "Limit(x*sin(1/x), x, oo, dir='-')"
            ]
          },
          "metadata": {},
          "execution_count": 39
        }
      ]
    },
    {
      "cell_type": "markdown",
      "source": [
        "THỰC HÀNH 11"
      ],
      "metadata": {
        "id": "67N9r0Ii-EkM"
      }
    },
    {
      "cell_type": "code",
      "source": [
        ""
      ],
      "metadata": {
        "id": "AgLzztG55Y-z"
      },
      "execution_count": null,
      "outputs": []
    },
    {
      "cell_type": "code",
      "source": [
        ""
      ],
      "metadata": {
        "id": "RzfeNgwN5YsM"
      },
      "execution_count": null,
      "outputs": []
    }
  ]
}