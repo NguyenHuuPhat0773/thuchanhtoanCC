{
  "nbformat": 4,
  "nbformat_minor": 0,
  "metadata": {
    "colab": {
      "name": "Chương 5.ipynb",
      "provenance": [],
      "authorship_tag": "ABX9TyNK5dsYpUZF5TlZLli2aDIm",
      "include_colab_link": true
    },
    "kernelspec": {
      "name": "python3",
      "display_name": "Python 3"
    },
    "language_info": {
      "name": "python"
    }
  },
  "cells": [
    {
      "cell_type": "markdown",
      "metadata": {
        "id": "view-in-github",
        "colab_type": "text"
      },
      "source": [
        "<a href=\"https://colab.research.google.com/github/NguyenHuuPhat0773/thuchanhtoanCC/blob/main/Ch%C6%B0%C6%A1ng_5.ipynb\" target=\"_parent\"><img src=\"https://colab.research.google.com/assets/colab-badge.svg\" alt=\"Open In Colab\"/></a>"
      ]
    },
    {
      "cell_type": "markdown",
      "source": [
        "Thực Hành **1**"
      ],
      "metadata": {
        "id": "7DauFbwIP_U2"
      }
    },
    {
      "cell_type": "code",
      "execution_count": 1,
      "metadata": {
        "colab": {
          "base_uri": "https://localhost:8080/"
        },
        "id": "uJZi8FsyPyal",
        "outputId": "ecc9782b-2fec-4b5b-ad3e-1d855245ebd6"
      },
      "outputs": [
        {
          "output_type": "stream",
          "name": "stdout",
          "text": [
            "3\n"
          ]
        }
      ],
      "source": [
        "x = 3 \n",
        "print  (x)"
      ]
    },
    {
      "cell_type": "code",
      "source": [
        "import math\n",
        "x=math.sqrt(1+x)\n",
        "print(x)"
      ],
      "metadata": {
        "colab": {
          "base_uri": "https://localhost:8080/"
        },
        "id": "r8Q_Yke7QFOW",
        "outputId": "4eaebcf5-4d82-4e30-cf3b-26416aca59d6"
      },
      "execution_count": 9,
      "outputs": [
        {
          "output_type": "stream",
          "name": "stdout",
          "text": [
            "1.6181317426584303\n"
          ]
        }
      ]
    },
    {
      "cell_type": "code",
      "source": [
        " x= math.sqrt(1+x)\n",
        " print (x) "
      ],
      "metadata": {
        "colab": {
          "base_uri": "https://localhost:8080/"
        },
        "id": "S1E55JRXQo7C",
        "outputId": "5e5a0963-4ee2-4304-bc35-f5dac488f198"
      },
      "execution_count": 12,
      "outputs": [
        {
          "output_type": "stream",
          "name": "stdout",
          "text": [
            "1.6180433233034663\n"
          ]
        }
      ]
    },
    {
      "cell_type": "code",
      "source": [
        " x = math.sqrt(1+x)\n",
        " print (x) "
      ],
      "metadata": {
        "colab": {
          "base_uri": "https://localhost:8080/"
        },
        "id": "fjtFh8CDQorh",
        "outputId": "279a8f7e-945b-4a4f-b102-bf612a8cf9e7"
      },
      "execution_count": 13,
      "outputs": [
        {
          "output_type": "stream",
          "name": "stdout",
          "text": [
            "1.6180368732830122\n"
          ]
        }
      ]
    },
    {
      "cell_type": "markdown",
      "source": [
        "Thực Hành 2 "
      ],
      "metadata": {
        "id": "NIiO74gbREBG"
      }
    },
    {
      "cell_type": "code",
      "source": [
        "import math\n",
        "x = 3\n",
        "lap = 1\n",
        "while (x != math.sqrt(x+1)):\n",
        "  x = math.sqrt(x+1)\n",
        "  lap = lap  +1\n",
        "  print(x)"
      ],
      "metadata": {
        "colab": {
          "base_uri": "https://localhost:8080/"
        },
        "id": "TMnQkO_kRD5-",
        "outputId": "807440a1-5dbb-4b91-83ff-1338a2fad0e3"
      },
      "execution_count": 19,
      "outputs": [
        {
          "output_type": "stream",
          "name": "stdout",
          "text": [
            "2.0\n",
            "1.7320508075688772\n",
            "1.6528916502810695\n",
            "1.6287699807772333\n",
            "1.621348198499395\n",
            "1.6190578119694785\n",
            "1.618350336598809\n",
            "1.6181317426584303\n",
            "1.618064196086926\n",
            "1.6180433233034663\n",
            "1.6180368732830122\n",
            "1.6180348801194033\n",
            "1.6180342641981977\n",
            "1.6180340738680992\n",
            "1.6180340150528663\n",
            "1.61803399687796\n",
            "1.618033991261605\n",
            "1.6180339895260558\n",
            "1.6180339889897417\n",
            "1.6180339888240116\n",
            "1.6180339887727981\n",
            "1.6180339887569724\n",
            "1.6180339887520818\n",
            "1.6180339887505706\n",
            "1.6180339887501036\n",
            "1.6180339887499593\n",
            "1.6180339887499147\n",
            "1.618033988749901\n",
            "1.6180339887498967\n",
            "1.6180339887498953\n",
            "1.618033988749895\n"
          ]
        }
      ]
    },
    {
      "cell_type": "code",
      "source": [
        "import math\n",
        "x = 3\n",
        "lap = 1\n",
        "while (x != math.sqrt(x+1)):\n",
        "  x = math.sqrt(x+1)\n",
        "  lap = lap  +1\n",
        "  print(lap)"
      ],
      "metadata": {
        "colab": {
          "base_uri": "https://localhost:8080/"
        },
        "id": "HHTWjKVJRibs",
        "outputId": "f74b544a-1480-42a5-d0ca-5cfec5024daf"
      },
      "execution_count": 22,
      "outputs": [
        {
          "output_type": "stream",
          "name": "stdout",
          "text": [
            "2\n",
            "3\n",
            "4\n",
            "5\n",
            "6\n",
            "7\n",
            "8\n",
            "9\n",
            "10\n",
            "11\n",
            "12\n",
            "13\n",
            "14\n",
            "15\n",
            "16\n",
            "17\n",
            "18\n",
            "19\n",
            "20\n",
            "21\n",
            "22\n",
            "23\n",
            "24\n",
            "25\n",
            "26\n",
            "27\n",
            "28\n",
            "29\n",
            "30\n",
            "31\n",
            "32\n"
          ]
        }
      ]
    },
    {
      "cell_type": "markdown",
      "source": [
        "Thực Hành 3 "
      ],
      "metadata": {
        "id": "caBTVWmTSFS9"
      }
    },
    {
      "cell_type": "code",
      "source": [
        "import sympy as sp\n",
        "from sympy import Symbol\n",
        "x = Symbol('x')\n",
        "sp.solve(x-sp.sqrt(1+x),x) "
      ],
      "metadata": {
        "colab": {
          "base_uri": "https://localhost:8080/"
        },
        "id": "JVxY4y0KRy-E",
        "outputId": "227b9235-431d-4ee8-ce35-8cd9967c93f8"
      },
      "execution_count": 23,
      "outputs": [
        {
          "output_type": "execute_result",
          "data": {
            "text/plain": [
              "[1/2 + sqrt(5)/2]"
            ]
          },
          "metadata": {},
          "execution_count": 23
        }
      ]
    },
    {
      "cell_type": "markdown",
      "source": [
        "Thực Hành 4 "
      ],
      "metadata": {
        "id": "voGnj02fSLMe"
      }
    },
    {
      "cell_type": "code",
      "source": [
        "import numpy as np\n",
        "v1 = np.array([1., 2., 3.])\n",
        "v2 = np.array([2., 1., 0.])\n",
        "v3 = v1 + v2  \n",
        "print(v3)"
      ],
      "metadata": {
        "colab": {
          "base_uri": "https://localhost:8080/"
        },
        "id": "8r2dOQ9yRytd",
        "outputId": "10dbc7f0-3400-4bec-ccc8-7179767846ec"
      },
      "execution_count": 26,
      "outputs": [
        {
          "output_type": "stream",
          "name": "stdout",
          "text": [
            "[3. 3. 3.]\n"
          ]
        }
      ]
    },
    {
      "cell_type": "code",
      "source": [
        "import numpy as np\n",
        "v1 = np.array([1., 2., 3.])\n",
        "v2 = np.array([2., 1., 0.])\n",
        "v3 = v1 + v2  \n",
        "print(3*v1  + 2*v2)"
      ],
      "metadata": {
        "colab": {
          "base_uri": "https://localhost:8080/"
        },
        "id": "sxffUltbSepe",
        "outputId": "93f57269-dea7-40d2-9735-1834772628f7"
      },
      "execution_count": 27,
      "outputs": [
        {
          "output_type": "stream",
          "name": "stdout",
          "text": [
            "[7. 8. 9.]\n"
          ]
        }
      ]
    },
    {
      "cell_type": "code",
      "source": [
        "import numpy as np\n",
        "v1 = np.array([1., 2., 3.])\n",
        "v2 = np.array([2., 1., 0.])\n",
        "v3 = v1 + v2  \n",
        "print([1, 2, 3] + [2, 1, 0])"
      ],
      "metadata": {
        "colab": {
          "base_uri": "https://localhost:8080/"
        },
        "id": "8-z9ZK_oSkqU",
        "outputId": "401b5ee6-83e9-4a14-9714-248d9d04dc56"
      },
      "execution_count": 28,
      "outputs": [
        {
          "output_type": "stream",
          "name": "stdout",
          "text": [
            "[1, 2, 3, 2, 1, 0]\n"
          ]
        }
      ]
    },
    {
      "cell_type": "code",
      "source": [
        "import numpy as np\n",
        "v1 = np.array([1., 2., 3.])\n",
        "v2 = np.array([2., 1., 0.])\n",
        "v3 = v1 + v2  \n",
        "print(3*[1,2,3] + 2*[2,1,0] )"
      ],
      "metadata": {
        "colab": {
          "base_uri": "https://localhost:8080/"
        },
        "id": "TSgag7oaSrzM",
        "outputId": "c3ae8c70-1887-454e-f475-dacaad9d5686"
      },
      "execution_count": 29,
      "outputs": [
        {
          "output_type": "stream",
          "name": "stdout",
          "text": [
            "[1, 2, 3, 1, 2, 3, 1, 2, 3, 2, 1, 0, 2, 1, 0]\n"
          ]
        }
      ]
    },
    {
      "cell_type": "code",
      "source": [
        "import numpy as np\n",
        "v1 = np.array([1., 2., 3.])\n",
        "v2 = np.array([2., 1., 0.])\n",
        "v3 = v1 + v2  \n",
        "v4 = np.hstack([v1, v2])\n",
        "print(v4)"
      ],
      "metadata": {
        "colab": {
          "base_uri": "https://localhost:8080/"
        },
        "id": "p8IqhfOcSxlV",
        "outputId": "df85f13d-822f-4fd9-812c-903501fec066"
      },
      "execution_count": 32,
      "outputs": [
        {
          "output_type": "stream",
          "name": "stdout",
          "text": [
            "[1. 2. 3. 2. 1. 0.]\n"
          ]
        }
      ]
    },
    {
      "cell_type": "code",
      "source": [
        "import numpy as np\n",
        "v1 = np.array([1., 2., 3.])\n",
        "v2 = np.array([2., 1., 0.])\n",
        "v3 = v1 + v2  \n",
        "v4 = np.hstack([v1,v2])\n",
        "d=np.dot(v1, v2) \n",
        "print(d)"
      ],
      "metadata": {
        "colab": {
          "base_uri": "https://localhost:8080/"
        },
        "id": "l4Hz05NkTAvl",
        "outputId": "ec3269f1-7628-49ef-d3ef-9810f1cb8e32"
      },
      "execution_count": 36,
      "outputs": [
        {
          "output_type": "stream",
          "name": "stdout",
          "text": [
            "4.0\n"
          ]
        }
      ]
    },
    {
      "cell_type": "code",
      "source": [
        "import numpy as np\n",
        "v1 = np.array([1., 2., 3.])\n",
        "v2 = np.array([2., 1., 0.])\n",
        "v3 = v1 + v2  \n",
        "v4 = np.hstack([v1, v2])\n",
        "angles = np.linspace(0, np.pi/2, 5) \n",
        "print(angles)"
      ],
      "metadata": {
        "colab": {
          "base_uri": "https://localhost:8080/"
        },
        "id": "vL5Kqk9QTMfr",
        "outputId": "d30957f1-c0de-4507-f786-2ae18b389369"
      },
      "execution_count": 37,
      "outputs": [
        {
          "output_type": "stream",
          "name": "stdout",
          "text": [
            "[0.         0.39269908 0.78539816 1.17809725 1.57079633]\n"
          ]
        }
      ]
    },
    {
      "cell_type": "code",
      "source": [
        "import numpy as np\n",
        "v1 = np.array([1.,2.,3.])\n",
        "v2 = np.array([2.,1.,0.])\n",
        "v3 = v1 + v2  \n",
        "v4 = np.hstack([v1,v2])\n",
        "c=np.sin(angles) \n",
        "print(c)"
      ],
      "metadata": {
        "colab": {
          "base_uri": "https://localhost:8080/"
        },
        "id": "ndcRODQITXSt",
        "outputId": "edd6d66a-85db-44f0-8d62-7bea42af86f3"
      },
      "execution_count": 39,
      "outputs": [
        {
          "output_type": "stream",
          "name": "stdout",
          "text": [
            "[0.         0.38268343 0.70710678 0.92387953 1.        ]\n"
          ]
        }
      ]
    },
    {
      "cell_type": "code",
      "source": [
        "import numpy as sy \n",
        "v1 = np.array([1.,2.,3.])\n",
        "v2 = np.array([2.,1.,0.])\n",
        "v3 = v1 + v2  \n",
        "v4 = np.hstack([v1,v2])\n",
        "e= sy.sin(angles) \n",
        "print(e)"
      ],
      "metadata": {
        "colab": {
          "base_uri": "https://localhost:8080/"
        },
        "id": "PadABhy3Ti4d",
        "outputId": "109c4eb7-ed77-462b-d6de-4680507bbb66"
      },
      "execution_count": 44,
      "outputs": [
        {
          "output_type": "stream",
          "name": "stdout",
          "text": [
            "[0.         0.38268343 0.70710678 0.92387953 1.        ]\n"
          ]
        }
      ]
    },
    {
      "cell_type": "code",
      "source": [
        "from sympy import sin as sysin\n",
        "angles = np.linspace(0, np.pi/2, 5)\n",
        "sinangle = np.zeros(5)\n",
        "sinangle = np.array([0.0, 0.0, 0.0, 0.0, 0.0])\n",
        "len(angles)\n",
        "for i in range(len(angles)):\n",
        "  sinangle[i] = sysin(angles[i])\n",
        "  print(sinangle)"
      ],
      "metadata": {
        "colab": {
          "base_uri": "https://localhost:8080/"
        },
        "id": "2WkUE_FjTy0s",
        "outputId": "40ff9b63-d59e-4c59-958d-66af77cdf2e5"
      },
      "execution_count": 43,
      "outputs": [
        {
          "output_type": "stream",
          "name": "stdout",
          "text": [
            "[0. 0. 0. 0. 0.]\n",
            "[0.         0.38268343 0.         0.         0.        ]\n",
            "[0.         0.38268343 0.70710678 0.         0.        ]\n",
            "[0.         0.38268343 0.70710678 0.92387953 0.        ]\n",
            "[0.         0.38268343 0.70710678 0.92387953 1.        ]\n"
          ]
        }
      ]
    },
    {
      "cell_type": "markdown",
      "source": [
        "Thực Hành 5 "
      ],
      "metadata": {
        "id": "IryPeljvUSql"
      }
    },
    {
      "cell_type": "code",
      "source": [
        "import numpy as np\n",
        "goc = np.pi/3 \n",
        "A = np.array([[np.cos(goc),-np.sin(goc)],[np.sin(goc),np.cos(goc)]]) \n",
        "V = np.array([1.,0.]) \n",
        "Y = np.dot(A,V)\n",
        "print(Y) "
      ],
      "metadata": {
        "colab": {
          "base_uri": "https://localhost:8080/"
        },
        "id": "iC4nlAREUOvs",
        "outputId": "ad4021e3-2be4-4fb8-d70c-404af51aa0ea"
      },
      "execution_count": 50,
      "outputs": [
        {
          "output_type": "stream",
          "name": "stdout",
          "text": [
            "[0.5       0.8660254]\n"
          ]
        }
      ]
    },
    {
      "cell_type": "markdown",
      "source": [
        "Thực Hành 6 "
      ],
      "metadata": {
        "id": "dG_IJBcmU5Oc"
      }
    },
    {
      "cell_type": "code",
      "source": [
        "from numpy import diff\n",
        "dx = 0.1\n",
        "y = [1, 2, 3, 4, 4, 5, 6]\n",
        "dy = diff(y)/dx \n",
        "print(dy) "
      ],
      "metadata": {
        "colab": {
          "base_uri": "https://localhost:8080/"
        },
        "id": "zDR1fI42UOim",
        "outputId": "3ce71ccc-bea8-43b5-a48e-780edb70d3a2"
      },
      "execution_count": 51,
      "outputs": [
        {
          "output_type": "stream",
          "name": "stdout",
          "text": [
            "[10. 10. 10.  0. 10. 10.]\n"
          ]
        }
      ]
    },
    {
      "cell_type": "code",
      "source": [
        "from numpy import diff\n",
        "dx = 0.1\n",
        "y = [1, 2, 3, 4, 4, 5, 6]\n",
        "z = np.array([1, 2, 3, 4, 4, 5, 6])\n",
        "dz = diff(z)/dx  \n",
        "print(dz)  "
      ],
      "metadata": {
        "colab": {
          "base_uri": "https://localhost:8080/"
        },
        "id": "jQ7H367EUOY8",
        "outputId": "1b90963a-9329-4f15-9308-cbbc3421cd74"
      },
      "execution_count": 54,
      "outputs": [
        {
          "output_type": "stream",
          "name": "stdout",
          "text": [
            "[10. 10. 10.  0. 10. 10.]\n"
          ]
        }
      ]
    },
    {
      "cell_type": "code",
      "source": [
        "from numpy import diff\n",
        "x = [.1,.2,.5,.6,.7,.8,.9]\n",
        "y = [1,2,3,4,4,5,6]\n",
        "dydx = diff(y)/diff(x) \n",
        "print(dydx) "
      ],
      "metadata": {
        "colab": {
          "base_uri": "https://localhost:8080/"
        },
        "id": "w5lMMkpRVewj",
        "outputId": "20340c6c-fe45-4cc2-e12e-35be321a0f03"
      },
      "execution_count": 55,
      "outputs": [
        {
          "output_type": "stream",
          "name": "stdout",
          "text": [
            "[10.          3.33333333 10.          0.         10.         10.        ]\n"
          ]
        }
      ]
    },
    {
      "cell_type": "markdown",
      "source": [
        "Thực Hành 7 "
      ],
      "metadata": {
        "id": "8GGtWSkkVxRj"
      }
    },
    {
      "cell_type": "code",
      "source": [
        "from sympy.geometry import * "
      ],
      "metadata": {
        "id": "LB3ZKPA-V1s0"
      },
      "execution_count": 56,
      "outputs": []
    },
    {
      "cell_type": "markdown",
      "source": [
        "Tạo các điểm P1, P2, P3 và P4 \n"
      ],
      "metadata": {
        "id": "BGhz7PqyV5MD"
      }
    },
    {
      "cell_type": "code",
      "source": [
        "P1 = Point(0,0)\n",
        "P2 = Point(3,4)\n",
        "P3 = Point(2,-1)\n",
        "P4 = Point(-1,5) "
      ],
      "metadata": {
        "id": "5NludlGnV8AD"
      },
      "execution_count": 59,
      "outputs": []
    },
    {
      "cell_type": "markdown",
      "source": [
        "Tạo 2 đoạn đường S1 và S2:"
      ],
      "metadata": {
        "id": "p5SqJrqbWHss"
      }
    },
    {
      "cell_type": "code",
      "source": [
        "S1 = Segment(P1,P2)\n",
        "S2 = Segment(P3,P4)"
      ],
      "metadata": {
        "id": "VMY7abKfWI5z"
      },
      "execution_count": 61,
      "outputs": []
    },
    {
      "cell_type": "markdown",
      "source": [
        "Kiểm 3 điểm thẳng hàng: "
      ],
      "metadata": {
        "id": "aXEahYCZWN9D"
      }
    },
    {
      "cell_type": "code",
      "source": [
        "Point.is_collinear(P1, P2, P3) "
      ],
      "metadata": {
        "colab": {
          "base_uri": "https://localhost:8080/"
        },
        "id": "c5mW_C2_WPgU",
        "outputId": "da8d8296-6948-4d00-9829-9f2be9e16317"
      },
      "execution_count": 63,
      "outputs": [
        {
          "output_type": "execute_result",
          "data": {
            "text/plain": [
              "False"
            ]
          },
          "metadata": {},
          "execution_count": 63
        }
      ]
    },
    {
      "cell_type": "markdown",
      "source": [
        "Độ dài của đoạn đường S1 "
      ],
      "metadata": {
        "id": "Qu6fsqIcWSQE"
      }
    },
    {
      "cell_type": "code",
      "source": [
        "S1.length"
      ],
      "metadata": {
        "colab": {
          "base_uri": "https://localhost:8080/",
          "height": 38
        },
        "id": "_Ar4haNcWUZa",
        "outputId": "17da1589-71ff-4792-9fe4-18daed551651"
      },
      "execution_count": 64,
      "outputs": [
        {
          "output_type": "execute_result",
          "data": {
            "text/latex": "$\\displaystyle 5$",
            "text/plain": [
              "5"
            ]
          },
          "metadata": {},
          "execution_count": 64
        }
      ]
    },
    {
      "cell_type": "markdown",
      "source": [
        "Lấy trung điểm của đoạn 2"
      ],
      "metadata": {
        "id": "YUmafxytWXVy"
      }
    },
    {
      "cell_type": "code",
      "source": [
        "S2.midpoint"
      ],
      "metadata": {
        "colab": {
          "base_uri": "https://localhost:8080/",
          "height": 58
        },
        "id": "kIexv2W1WZXL",
        "outputId": "43f8104c-d34f-4693-e772-276942f6c37f"
      },
      "execution_count": 65,
      "outputs": [
        {
          "output_type": "execute_result",
          "data": {
            "text/latex": "$\\displaystyle Point2D\\left(\\frac{1}{2}, 2\\right)$",
            "text/plain": [
              "Point2D(1/2, 2)"
            ]
          },
          "metadata": {},
          "execution_count": 65
        }
      ]
    },
    {
      "cell_type": "markdown",
      "source": [
        "Tính độ dốc của đường S1 "
      ],
      "metadata": {
        "id": "tM_pJAIVWbpS"
      }
    },
    {
      "cell_type": "code",
      "source": [
        "S1.slope "
      ],
      "metadata": {
        "colab": {
          "base_uri": "https://localhost:8080/",
          "height": 51
        },
        "id": "L9m-UeMIWc8S",
        "outputId": "621d29e4-c004-47dd-cef4-26503aeb2824"
      },
      "execution_count": 66,
      "outputs": [
        {
          "output_type": "execute_result",
          "data": {
            "text/latex": "$\\displaystyle \\frac{4}{3}$",
            "text/plain": [
              "4/3"
            ]
          },
          "metadata": {},
          "execution_count": 66
        }
      ]
    },
    {
      "cell_type": "markdown",
      "source": [
        "Tìm vị trí giao nhau giữa hai đoạn đường "
      ],
      "metadata": {
        "id": "vftled7sWfN7"
      }
    },
    {
      "cell_type": "code",
      "source": [
        " S1.intersection(S2) "
      ],
      "metadata": {
        "colab": {
          "base_uri": "https://localhost:8080/"
        },
        "id": "tvDjFK7MWgcc",
        "outputId": "4ab85d5c-b605-4c89-d108-c2637e990ce0"
      },
      "execution_count": 67,
      "outputs": [
        {
          "output_type": "execute_result",
          "data": {
            "text/plain": [
              "[Point2D(9/10, 6/5)]"
            ]
          },
          "metadata": {},
          "execution_count": 67
        }
      ]
    },
    {
      "cell_type": "markdown",
      "source": [
        " Góc giữa hai đoạn đường"
      ],
      "metadata": {
        "id": "uMbd20haWiqa"
      }
    },
    {
      "cell_type": "code",
      "source": [
        "Segment.angle_between(S1,S2)"
      ],
      "metadata": {
        "colab": {
          "base_uri": "https://localhost:8080/",
          "height": 68
        },
        "id": "8URtF6c-WjLk",
        "outputId": "231624a3-cebc-4367-9693-9bd6afe20b67"
      },
      "execution_count": 69,
      "outputs": [
        {
          "output_type": "execute_result",
          "data": {
            "text/latex": "$\\displaystyle \\operatorname{acos}{\\left(\\frac{\\sqrt{5}}{5} \\right)}$",
            "text/plain": [
              "acos(sqrt(5)/5)"
            ]
          },
          "metadata": {},
          "execution_count": 69
        }
      ]
    },
    {
      "cell_type": "markdown",
      "source": [
        "Kiểm đoạn đường S1 có chứa điểm P3 hay không? "
      ],
      "metadata": {
        "id": "SIZkZwY3WqXM"
      }
    },
    {
      "cell_type": "code",
      "source": [
        "S1.contains(P3)"
      ],
      "metadata": {
        "colab": {
          "base_uri": "https://localhost:8080/"
        },
        "id": "iPPpBf3BWq6T",
        "outputId": "f20b1f25-6f53-4138-9ccd-29381678ffc0"
      },
      "execution_count": 70,
      "outputs": [
        {
          "output_type": "execute_result",
          "data": {
            "text/plain": [
              "False"
            ]
          },
          "metadata": {},
          "execution_count": 70
        }
      ]
    },
    {
      "cell_type": "markdown",
      "source": [
        "Lập và xem phương trình đường thẳng L1 đi qua 2 điểm P1 và P2: "
      ],
      "metadata": {
        "id": "QhuJperEWsri"
      }
    },
    {
      "cell_type": "code",
      "source": [
        "L1 = Line(P1, P2)\n",
        "L1.equation()  "
      ],
      "metadata": {
        "colab": {
          "base_uri": "https://localhost:8080/",
          "height": 39
        },
        "id": "B3mXRjC_WuOR",
        "outputId": "e5cc023f-9653-4cef-9f68-1b13c78af3c9"
      },
      "execution_count": 71,
      "outputs": [
        {
          "output_type": "execute_result",
          "data": {
            "text/latex": "$\\displaystyle - 4 x + 3 y$",
            "text/plain": [
              "-4*x + 3*y"
            ]
          },
          "metadata": {},
          "execution_count": 71
        }
      ]
    },
    {
      "cell_type": "markdown",
      "source": [
        "Kiểm tính song song:"
      ],
      "metadata": {
        "id": "vBIsTjfFWxUS"
      }
    },
    {
      "cell_type": "code",
      "source": [
        " L1.is_parallel(S1) "
      ],
      "metadata": {
        "colab": {
          "base_uri": "https://localhost:8080/"
        },
        "id": "bN4MXhHnWyr0",
        "outputId": "3b582960-9da7-4325-b23a-7ca677ce7cee"
      },
      "execution_count": 72,
      "outputs": [
        {
          "output_type": "execute_result",
          "data": {
            "text/plain": [
              "True"
            ]
          },
          "metadata": {},
          "execution_count": 72
        }
      ]
    },
    {
      "cell_type": "code",
      "source": [
        " L1.is_parallel(S2) "
      ],
      "metadata": {
        "colab": {
          "base_uri": "https://localhost:8080/"
        },
        "id": "ygTZFbpyW2xq",
        "outputId": "9ea6e11d-321a-4988-a5b0-adc1ff82b67f"
      },
      "execution_count": 73,
      "outputs": [
        {
          "output_type": "execute_result",
          "data": {
            "text/plain": [
              "False"
            ]
          },
          "metadata": {},
          "execution_count": 73
        }
      ]
    },
    {
      "cell_type": "markdown",
      "source": [
        "Thực Hành 8 "
      ],
      "metadata": {
        "id": "thrgcOhbW55y"
      }
    },
    {
      "cell_type": "code",
      "source": [
        "import sympy \n",
        "from sympy import *\n",
        "x = Symbol('x')\n",
        "f = x * sin(1/x) \n",
        "c = Symbol('c')\n",
        "delta = Symbol('delta')\n",
        "c = 0\n",
        "delta = 1/4\n",
        "sympy.plot(f,(x,c - delta, c + delta))\n"
      ],
      "metadata": {
        "colab": {
          "base_uri": "https://localhost:8080/",
          "height": 314
        },
        "id": "GCBScdSCW7RC",
        "outputId": "8b70ab6a-9c3d-41b5-ecdd-915a8f3c2194"
      },
      "execution_count": 79,
      "outputs": [
        {
          "output_type": "display_data",
          "data": {
            "image/png": "[encoded data removed]",
            "text/plain": [
              "<Figure size 432x288 with 1 Axes>"
            ]
          },
          "metadata": {
            "needs_background": "light"
          }
        },
        {
          "output_type": "execute_result",
          "data": {
            "text/plain": [
              "<sympy.plotting.plot.Plot at 0x7f6e689f0750>"
            ]
          },
          "metadata": {},
          "execution_count": 79
        }
      ]
    },
    {
      "cell_type": "code",
      "source": [
        "import sympy \n",
        "from sympy import *\n",
        "x = Symbol('x')\n",
        "f = x * sin(1/x) \n",
        "c = Symbol('c')\n",
        "delta = Symbol('delta')\n",
        "c = 0\n",
        "delta = 1/4\n",
        "sympy.plot(f, abs(x),-abs(x),(x,c-delta,c +delta))"
      ],
      "metadata": {
        "colab": {
          "base_uri": "https://localhost:8080/",
          "height": 314
        },
        "id": "vMSICkqCXng0",
        "outputId": "054228d2-20c4-4bcd-9c0b-8725cc2ed377"
      },
      "execution_count": 77,
      "outputs": [
        {
          "output_type": "display_data",
          "data": {
            "image/png": "[encoded data removed]",
            "text/plain": [
              "<Figure size 432x288 with 1 Axes>"
            ]
          },
          "metadata": {
            "needs_background": "light"
          }
        },
        {
          "output_type": "execute_result",
          "data": {
            "text/plain": [
              "<sympy.plotting.plot.Plot at 0x7f6e68cbe210>"
            ]
          },
          "metadata": {},
          "execution_count": 77
        }
      ]
    },
    {
      "cell_type": "markdown",
      "source": [
        "Thực Hành 9 "
      ],
      "metadata": {
        "id": "WV3KZVlDXvsJ"
      }
    },
    {
      "cell_type": "code",
      "source": [
        "from sympy import Symbol, solve, Derivative \n",
        "x = Symbol('x') \n",
        "f = -x**2+4*x-3 \n",
        "d1=Derivative(f, x).doit() \n",
        "cuctri = solve(d1) \n",
        "print(cuctri )\n",
        "\n"
      ],
      "metadata": {
        "colab": {
          "base_uri": "https://localhost:8080/"
        },
        "id": "BH1f73L7X6ZL",
        "outputId": "ad9946a9-dcce-41f8-8182-f1c263e10225"
      },
      "execution_count": 87,
      "outputs": [
        {
          "output_type": "stream",
          "name": "stdout",
          "text": [
            "[2]\n"
          ]
        }
      ]
    },
    {
      "cell_type": "code",
      "source": [
        "from sympy import Symbol, solve, Derivative \n",
        "x = Symbol('x') \n",
        "f = -x**2+4*x-3 \n",
        "d1=Derivative(f, x).doit() \n",
        "cuctri = solve(d1)\n",
        "A = cuctri[0]\n",
        "d2 = Derivative(d1, x).doit() \n",
        "d2.subs({x:A}).evalf()"
      ],
      "metadata": {
        "colab": {
          "base_uri": "https://localhost:8080/",
          "height": 38
        },
        "id": "ER8bxNCsYeVy",
        "outputId": "eccb7b46-bda5-43e0-e66c-c0ad401363da"
      },
      "execution_count": 88,
      "outputs": [
        {
          "output_type": "execute_result",
          "data": {
            "text/latex": "$\\displaystyle -2.0$",
            "text/plain": [
              "-2.00000000000000"
            ]
          },
          "metadata": {},
          "execution_count": 88
        }
      ]
    },
    {
      "cell_type": "code",
      "source": [
        "from sympy import Symbol, solve, Derivative \n",
        "x = Symbol('x') \n",
        "f = -x**2+4*x-3 \n",
        "d1=Derivative(f, x).doit() \n",
        "cuctri = solve(d1)\n",
        "x_min=0\n",
        "x_max=4\n",
        "f.subs({x:A}).evalf() "
      ],
      "metadata": {
        "colab": {
          "base_uri": "https://localhost:8080/",
          "height": 38
        },
        "id": "MQTuOwCCYkuR",
        "outputId": "3699406f-0c65-4e2c-e6cb-07565370f41c"
      },
      "execution_count": 89,
      "outputs": [
        {
          "output_type": "execute_result",
          "data": {
            "text/latex": "$\\displaystyle 1.0$",
            "text/plain": [
              "1.00000000000000"
            ]
          },
          "metadata": {},
          "execution_count": 89
        }
      ]
    },
    {
      "cell_type": "code",
      "source": [
        "from sympy import Symbol, solve, Derivative \n",
        "x = Symbol('x') \n",
        "f = -x**2+4*x-3 \n",
        "d1=Derivative(f, x).doit() \n",
        "cuctri = solve(d1)\n",
        "x_min=0\n",
        "x_max=4\n",
        "f.subs({x:x_min}).evalf() "
      ],
      "metadata": {
        "colab": {
          "base_uri": "https://localhost:8080/",
          "height": 38
        },
        "id": "ozcajdW6YrqD",
        "outputId": "1e989c99-31f9-4bbc-a17f-09c41509f039"
      },
      "execution_count": 93,
      "outputs": [
        {
          "output_type": "execute_result",
          "data": {
            "text/latex": "$\\displaystyle -3.0$",
            "text/plain": [
              "-3.00000000000000"
            ]
          },
          "metadata": {},
          "execution_count": 93
        }
      ]
    },
    {
      "cell_type": "code",
      "source": [
        "from sympy import Symbol, solve, Derivative \n",
        "x = Symbol('x') \n",
        "f = -x**2+4*x-3 \n",
        "d1=Derivative(f, x).doit() \n",
        "cuctri = solve(d1)\n",
        "x_min=0\n",
        "x_max=4\n",
        "f.subs({x:x_max}).evalf() "
      ],
      "metadata": {
        "colab": {
          "base_uri": "https://localhost:8080/",
          "height": 38
        },
        "id": "e8-3siB6YwOJ",
        "outputId": "3e6122e4-b6bf-4571-8c28-d612be2b8156"
      },
      "execution_count": 92,
      "outputs": [
        {
          "output_type": "execute_result",
          "data": {
            "text/latex": "$\\displaystyle -3.0$",
            "text/plain": [
              "-3.00000000000000"
            ]
          },
          "metadata": {},
          "execution_count": 92
        }
      ]
    },
    {
      "cell_type": "code",
      "source": [
        ""
      ],
      "metadata": {
        "id": "tmDPl7D5Y-BK"
      },
      "execution_count": null,
      "outputs": []
    }
  ]
}